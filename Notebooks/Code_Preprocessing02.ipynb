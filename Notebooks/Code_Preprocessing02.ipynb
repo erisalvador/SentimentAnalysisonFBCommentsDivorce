{
  "nbformat": 4,
  "nbformat_minor": 0,
  "metadata": {
    "colab": {
      "private_outputs": true,
      "provenance": []
    },
    "kernelspec": {
      "name": "python3",
      "display_name": "Python 3"
    },
    "language_info": {
      "name": "python"
    }
  },
  "cells": [
    {
      "cell_type": "code",
      "execution_count": null,
      "metadata": {
        "id": "OV6vVsHKX2IA"
      },
      "outputs": [],
      "source": [
        "import pandas as pd"
      ]
    },
    {
      "cell_type": "code",
      "source": [
        "from google.colab import drive\n",
        "drive.mount('/content/drive')"
      ],
      "metadata": {
        "id": "xLXSvpf3Y40N"
      },
      "execution_count": null,
      "outputs": []
    },
    {
      "cell_type": "code",
      "source": [
        "# Load the dataset\n",
        "file_path = '/content/drive/My Drive/Research/SentimentAnalysisDivorce/Dataset/PREPROCESSED_DATA_02.csv'\n",
        "df = pd.read_csv(file_path)"
      ],
      "metadata": {
        "id": "7W7Bva8BY53U"
      },
      "execution_count": null,
      "outputs": []
    },
    {
      "cell_type": "code",
      "source": [
        "# Check the initial number of rows\n",
        "initial_rows = len(df)\n",
        "print(initial_rows)"
      ],
      "metadata": {
        "id": "tYbGwvwwZGYG"
      },
      "execution_count": null,
      "outputs": []
    },
    {
      "cell_type": "code",
      "source": [
        "# Define a function to check if a label is safe to retain\n",
        "def is_safe_label(label):\n",
        "    return pd.isna(label) or label.strip().lower() == 'remove'\n",
        "\n",
        "# Filter rows where column E (index 4) has safe labels\n",
        "df_cleaned = df[df.iloc[:, 4].apply(is_safe_label)]"
      ],
      "metadata": {
        "id": "RHjsEjmhZbif"
      },
      "execution_count": null,
      "outputs": []
    },
    {
      "cell_type": "code",
      "source": [
        "# Check the number of rows after cleaning\n",
        "final_rows = len(df_cleaned)\n",
        "print(final_rows)"
      ],
      "metadata": {
        "id": "pKF6GzkXZh-K"
      },
      "execution_count": null,
      "outputs": []
    },
    {
      "cell_type": "code",
      "source": [
        "# Print the number of rows removed\n",
        "print(f'Initial number of rows: {initial_rows}')\n",
        "print(f'Number of rows after cleaning: {final_rows}')\n",
        "print(f'Number of rows removed: {initial_rows - final_rows}')"
      ],
      "metadata": {
        "id": "GFHK9vTfZlDE"
      },
      "execution_count": null,
      "outputs": []
    },
    {
      "cell_type": "code",
      "source": [
        "# Save the cleaned dataset\n",
        "cleaned_file_path = '/content/drive/My Drive/Research/SentimentAnalysisDivorce/Dataset/PREPROCESSED_DATA_03.csv'\n",
        "df_cleaned.to_csv(cleaned_file_path, index=False)"
      ],
      "metadata": {
        "id": "_8Q0v816ZqCL"
      },
      "execution_count": null,
      "outputs": []
    }
  ]
}