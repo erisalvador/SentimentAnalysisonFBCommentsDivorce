{
  "nbformat": 4,
  "nbformat_minor": 0,
  "metadata": {
    "colab": {
      "private_outputs": true,
      "provenance": []
    },
    "kernelspec": {
      "name": "python3",
      "display_name": "Python 3"
    },
    "language_info": {
      "name": "python"
    }
  },
  "cells": [
    {
      "cell_type": "code",
      "execution_count": null,
      "metadata": {
        "id": "W9h9Y8N_rkSA"
      },
      "outputs": [],
      "source": [
        "import pandas as pd\n",
        "import os"
      ]
    },
    {
      "cell_type": "code",
      "source": [
        "from google.colab import drive\n",
        "drive.mount('/content/drive')\n"
      ],
      "metadata": {
        "id": "gBMKzwdp2Kne"
      },
      "execution_count": null,
      "outputs": []
    },
    {
      "cell_type": "code",
      "source": [
        "# Path to the directory containing CSV files\n",
        "directory = '/content/'\n",
        "\n",
        "# Path to Google Drive\n",
        "drive_directory = '/content/drive/My Drive/'\n",
        "\n",
        "# Function to combine CSV files with the same prefix\n",
        "def combine_csv(prefix):\n",
        "    files = [file for file in os.listdir(directory) if file.startswith(prefix)]\n",
        "    combined_df = pd.DataFrame()\n",
        "    for file in files:\n",
        "        try:\n",
        "            df = pd.read_csv(directory + file, low_memory=False)\n",
        "            combined_df = pd.concat([combined_df, df], ignore_index=True)\n",
        "        except pd.errors.EmptyDataError:\n",
        "            print(f\"Empty file: {file}. Skipping...\")\n",
        "            continue\n",
        "    combined_df.to_csv(directory + prefix + '_combined.csv', index=False)\n",
        "    combined_df.to_csv(drive_directory + prefix + '_combined.csv', index=False)\n",
        "\n",
        "# Combine CSV files for each prefix\n",
        "prefixes = ['AD', 'ND', 'PD', 'NA']\n",
        "for prefix in prefixes:\n",
        "    combine_csv(prefix)\n",
        "\n",
        "# Combine all CSV files into one final dataset\n",
        "all_files = [file for file in os.listdir(directory) if file.endswith('.csv') and not file.endswith('_combined.csv')]\n",
        "combined_all_df = pd.concat([pd.read_csv(directory + file, low_memory=False) for file in all_files])\n",
        "combined_all_df.to_csv(directory + 'FINAL_DATASET.csv', index=False)\n",
        "combined_all_df.to_csv(drive_directory + 'FINAL_DATASET.csv', index=False)  # Save to Google Drive"
      ],
      "metadata": {
        "id": "UIQEP7MhtzY1"
      },
      "execution_count": null,
      "outputs": []
    }
  ]
}