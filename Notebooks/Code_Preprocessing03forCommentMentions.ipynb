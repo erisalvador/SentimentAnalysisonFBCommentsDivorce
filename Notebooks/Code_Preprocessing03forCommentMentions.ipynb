{
  "nbformat": 4,
  "nbformat_minor": 0,
  "metadata": {
    "colab": {
      "private_outputs": true,
      "provenance": []
    },
    "kernelspec": {
      "name": "python3",
      "display_name": "Python 3"
    },
    "language_info": {
      "name": "python"
    }
  },
  "cells": [
    {
      "cell_type": "code",
      "execution_count": null,
      "metadata": {
        "id": "T2oSIvX8ajDh"
      },
      "outputs": [],
      "source": [
        "import pandas as pd\n",
        "import re"
      ]
    },
    {
      "cell_type": "code",
      "source": [
        "from google.colab import drive\n",
        "drive.mount('/content/drive')"
      ],
      "metadata": {
        "id": "d7jaxy0GjEs_"
      },
      "execution_count": null,
      "outputs": []
    },
    {
      "cell_type": "code",
      "source": [
        "# Load the dataset\n",
        "file_path = '/content/drive/My Drive/Research/SentimentAnalysisDivorce/Dataset/PREPROCESSED_DATA_03.csv'\n",
        "df = pd.read_csv(file_path)"
      ],
      "metadata": {
        "id": "4wlPuV80jlEY"
      },
      "execution_count": null,
      "outputs": []
    },
    {
      "cell_type": "code",
      "source": [
        "# Check the initial number of rows\n",
        "initial_rows = len(df)\n",
        "print(initial_rows)"
      ],
      "metadata": {
        "id": "O_H-xgPWjorg"
      },
      "execution_count": null,
      "outputs": []
    },
    {
      "cell_type": "code",
      "source": [
        "# Since columns E and F have no labels, we will rename them for clarity\n",
        "df.rename(columns={df.columns[4]: 'Flag', df.columns[5]: 'MentionedName'}, inplace=True)\n",
        "\n",
        "# Filter out the rows where the 'Flag' column has 'REMOVE' and 'MentionedName' is not NaN\n",
        "to_anonymize = df[(df['Flag'] == 'REMOVE') & (~df['MentionedName'].isna())]\n",
        "\n",
        "# Initialize a dictionary to keep track of the alphanumeric codes for each mentioned name\n",
        "anonymize_dict = {}\n",
        "\n",
        "# Function to anonymize the mentioned name in the text using regex\n",
        "def anonymize_text(row):\n",
        "    text = row['text']\n",
        "    mentioned_name = row['MentionedName']\n",
        "    if mentioned_name not in anonymize_dict:\n",
        "        anonymize_dict[mentioned_name] = f'Anon{len(anonymize_dict) + 1}'\n",
        "    anonymized_name = anonymize_dict[mentioned_name]\n",
        "    # Use regex to replace the mentioned name\n",
        "    anonymized_text = re.sub(re.escape(mentioned_name), anonymized_name, text)\n",
        "    print(f\"Replacing {mentioned_name} with {anonymized_name} in text: {text[:30]}... -> {anonymized_text[:30]}...\")\n",
        "    return anonymized_text\n",
        "\n",
        "# Apply the anonymize_text function to the relevant rows\n",
        "df.loc[(df['Flag'] == 'REMOVE') & (~df['MentionedName'].isna()), 'text'] = to_anonymize.apply(anonymize_text, axis=1)\n",
        "\n",
        "# Show sample of anonymized comments\n",
        "sample_size = 10\n",
        "print(\"\\nSample of anonymized comments:\")\n",
        "print(df[['text']].sample(sample_size))\n"
      ],
      "metadata": {
        "id": "gbbmgLctoWEG"
      },
      "execution_count": null,
      "outputs": []
    },
    {
      "cell_type": "code",
      "source": [
        "# Save the processed dataframe back to a CSV\n",
        "output_path = '/content/drive/My Drive/Research/SentimentAnalysisDivorce/Dataset/PREPROCESSED_DATA_04.csv'\n",
        "df.to_csv(output_path, index=False)"
      ],
      "metadata": {
        "id": "w41NsTJ5ohTC"
      },
      "execution_count": null,
      "outputs": []
    }
  ]
}