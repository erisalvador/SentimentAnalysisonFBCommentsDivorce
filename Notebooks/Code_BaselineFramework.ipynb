{
  "nbformat": 4,
  "nbformat_minor": 0,
  "metadata": {
    "colab": {
      "private_outputs": true,
      "provenance": []
    },
    "kernelspec": {
      "name": "python3",
      "display_name": "Python 3"
    },
    "language_info": {
      "name": "python"
    }
  },
  "cells": [
    {
      "cell_type": "markdown",
      "source": [
        "# Marital Sentiment Orientation of Filipinos on the Absolute Divorce Bill: Evidence via a Natural Language Processing Approach *[Pseudocode slash Baseline Framework Only]*"
      ],
      "metadata": {
        "id": "VVsRTr0tq3Ar"
      }
    },
    {
      "cell_type": "markdown",
      "source": [
        "## Imports and Constants"
      ],
      "metadata": {
        "id": "-DD_iVRwsjcU"
      }
    },
    {
      "cell_type": "code",
      "source": [
        "from textblob import TextBlob\n",
        "import pandas as pd\n",
        "from gensim.models import Word2Vec\n",
        "from wordcloud import WordCloud\n",
        "import matplotlib.pyplot as plt\n",
        "import networkx as nx"
      ],
      "metadata": {
        "id": "nFgoo1hBq5L4"
      },
      "execution_count": null,
      "outputs": []
    },
    {
      "cell_type": "code",
      "execution_count": null,
      "metadata": {
        "id": "TPoCge_JqM66"
      },
      "outputs": [],
      "source": [
        "def baiduLSTMClassification(text):\n",
        "    analysis = TextBlob(text)\n",
        "    return 'positive' if analysis.sentiment.polarity > 0 else 'negative'"
      ]
    },
    {
      "cell_type": "code",
      "source": [
        "def word2vecTokenization(negativeText):\n",
        "    sentences = [negativeText.split()]  # Assume simple split by whitespace\n",
        "    model = Word2Vec(sentences, vector_size=100, window=5, min_count=1, workers=4)\n",
        "    tokens = list(model.wv.key_to_index.keys())\n",
        "    return tokens"
      ],
      "metadata": {
        "id": "kj8alxJ4tknr"
      },
      "execution_count": null,
      "outputs": []
    },
    {
      "cell_type": "code",
      "source": [
        "def wordCloudAnalysisAndVisualization(tokens):\n",
        "    wordcloud = WordCloud(width=800, height=400).generate(' '.join(tokens))\n",
        "    plt.figure(figsize=(10, 5))\n",
        "    plt.imshow(wordcloud, interpolation='bilinear')\n",
        "    plt.axis(\"off\")\n",
        "    plt.show()"
      ],
      "metadata": {
        "id": "XOB2LzLRtmlD"
      },
      "execution_count": null,
      "outputs": []
    },
    {
      "cell_type": "code",
      "source": [
        "def textrankSorting(tokens):\n",
        "    graph = nx.Graph()\n",
        "    graph.add_nodes_from(tokens)\n",
        "    for token in tokens:\n",
        "        for other_token in tokens:\n",
        "            if token != other_token:\n",
        "                graph.add_edge(token, other_token)\n",
        "    scores = nx.pagerank(graph)\n",
        "    sorted_tokens = sorted(scores, key=scores.get, reverse=True)\n",
        "    return sorted_tokens"
      ],
      "metadata": {
        "id": "pXUI3jkvtoVd"
      },
      "execution_count": null,
      "outputs": []
    },
    {
      "cell_type": "code",
      "source": [
        "def main():\n",
        "    # Example corpus\n",
        "    corpus = [\"This new policy on divorce has been controversial and upsetting to many.\",\n",
        "              \"The recent changes have brought happiness and relief to several individuals.\",\n",
        "              \"Divorce is now seen as a viable option for distressed marriages, which is good.\"]\n",
        "\n",
        "    # Perform sentiment classification on the corpus\n",
        "    sentimentResult = [baiduLSTMClassification(text) for text in corpus]\n",
        "    print(\"Sentiment Results:\", sentimentResult)\n",
        "\n",
        "    # Extract the text associated with negative sentiment\n",
        "    negativeText = [corpus[i] for i in range(len(corpus)) if sentimentResult[i] == 'negative']\n",
        "    print(\"Negative Texts:\", negativeText)\n",
        "\n",
        "    # Tokenize the text associated with negative sentiment using Word2Vec\n",
        "    negativeTokens = [word2vecTokenization(text) for text in negativeText]\n",
        "\n",
        "    # Conduct word cloud analysis and visualization\n",
        "    for tokens in negativeTokens:\n",
        "        wordCloudAnalysisAndVisualization(tokens)\n",
        "\n",
        "    # Utilize TextRank for sorting the tokenized words\n",
        "    sortedTokens = [textrankSorting(tokens) for tokens in negativeTokens]\n",
        "\n",
        "    # Output the sorted tokens\n",
        "    for tokens in sortedTokens:\n",
        "        print(\"Sorted Tokens:\", tokens)"
      ],
      "metadata": {
        "id": "tI0KpAfOttx1"
      },
      "execution_count": null,
      "outputs": []
    },
    {
      "cell_type": "code",
      "source": [
        "main()"
      ],
      "metadata": {
        "id": "5o4uA2vGtxuu"
      },
      "execution_count": null,
      "outputs": []
    }
  ]
}